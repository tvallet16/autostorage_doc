{
 "cells": [
  {
   "cell_type": "code",
   "execution_count": 2,
   "id": "2b012c1a-1cf4-4a7c-aece-c267007c897d",
   "metadata": {},
   "outputs": [],
   "source": [
    "import gensim\n",
    "from gensim.models.doc2vec import Doc2Vec, TaggedDocument\n",
    "from textScrapper import TextScrapper\n",
    "from tqdm import tqdm\n",
    "import os\n",
    "import re\n",
    "import warnings\n",
    "from sklearn.model_selection import train_test_split\n",
    "warnings.filterwarnings('ignore')"
   ]
  },
  {
   "cell_type": "code",
   "execution_count": 12,
   "id": "e49dac82-5296-42f7-b026-7283dcae01fe",
   "metadata": {},
   "outputs": [],
   "source": [
    "def cleanText(final_text):\n",
    "    \n",
    "    final_text = re.sub(r\"[^A-Za-z0-9(),!.?\\'\\`]\", \" \", final_text )\n",
    "    final_text = re.sub(r\"\\'s\", \" 's \", final_text )\n",
    "    final_text = re.sub(r\"\\'ve\", \" 've \", final_text )\n",
    "    final_text = re.sub(r\"n\\'t\", \" 't \", final_text )\n",
    "    final_text = re.sub(r\"\\'re\", \" 're \", final_text )\n",
    "    final_text = re.sub(r\"\\'d\", \" 'd \", final_text )\n",
    "    final_text = re.sub(r\"\\'ll\", \" 'll \", final_text )\n",
    "    final_text = re.sub(r\",\", \" \", final_text )\n",
    "    final_text = re.sub(r\"\\.\", \" \", final_text )\n",
    "    final_text = re.sub(r\"!\", \" \", final_text )\n",
    "    final_text = re.sub(r\"\\(\", \" ( \", final_text )\n",
    "    final_text = re.sub(r\"\\)\", \" ) \", final_text )\n",
    "    final_text = re.sub(r\"\\?\", \" \", final_text )\n",
    "    final_text = re.sub(r\"\\s{2,}\", \" \", final_text )\n",
    "    return final_text"
   ]
  },
  {
   "cell_type": "code",
   "execution_count": 48,
   "id": "54f98d87-fff7-4d79-8a17-34fcf72b4aa1",
   "metadata": {},
   "outputs": [
    {
     "name": "stdout",
     "output_type": "stream",
     "text": [
      "11711    44055859 RM\n",
      "Name: fileName, dtype: object\n",
      "[('8', 0.15936048328876495), ('N', 0.12649615108966827), ('Y', 0.12436524778604507), ('2', 0.10350263863801956), ('Z', 0.10309267789125443), ('5', 0.08199744671583176), ('F', 0.08024723082780838), ('O', 0.06134968250989914), ('K', 0.040383003652095795), ('P', 0.038836970925331116)]\n"
     ]
    }
   ],
   "source": [
    "csvPath = \"/Volumes/DD Thibault/sncf_DB/doc/engie/engie.csv\"\n",
    "scrapper = TextScrapper()\n",
    "csv = scrapper.getTextCsv(csvPath)\n",
    "labelList = []\n",
    "data, test_data = train_test_split(csv,test_size=0.15)\n",
    "print(test_data.iloc[[1]][\"fileName\"])\n",
    "titles = []\n",
    "label = []\n",
    "docs=[]\n",
    "for file in data.iloc:\n",
    "    titles.append(file[\"fileName\"])\n",
    "    label.append(file[\"KidDocumentClass\"])\n",
    "    sentence  = cleanText(file[\"fileName\"])\n",
    "    docs.append(TaggedDocument(words=sentence.split(), tags=file[\"KidFile\"]))\n",
    "    \n",
    "model = gensim.models.doc2vec.Doc2Vec(vector_size=100, min_count=2, epochs=80)\n",
    "model.build_vocab(docs)\n",
    "model.train(docs, total_examples=model.corpus_count, epochs=80)\n",
    "\n",
    "newFile= \"integratio filefMkFU4\".split()\n",
    "\n",
    "new_vector = model.infer_vector(newFile)\n",
    "\n",
    "similarity_doc = model.docvecs.most_similar([new_vector])\n",
    "print(similarity_doc)"
   ]
  },
  {
   "cell_type": "code",
   "execution_count": 60,
   "id": "b9e53172-b507-4969-a08e-d1b77a6f72d4",
   "metadata": {},
   "outputs": [
    {
     "name": "stdout",
     "output_type": "stream",
     "text": [
      "38\n",
      "[('8', 0.15936048328876495), ('N', 0.12649615108966827), ('Y', 0.12436524778604507), ('2', 0.10350263863801956), ('Z', 0.10309267789125443), ('5', 0.08199744671583176), ('F', 0.08024723082780838), ('O', 0.06134968250989914), ('K', 0.040383003652095795), ('P', 0.038836970925331116), ('X', 0.037718262523412704), ('V', 0.03628865256905556), ('M', 0.022547829896211624), ('3', 0.020803093910217285), ('C', 0.020166371017694473), ('D', 0.015672462061047554), ('W', 0.010764866136014462), ('J', 0.010307607240974903), ('E', 0.004076081793755293), ('I', 0.00048069102922454476), ('Q', 0.00012093527766410261), ('S', -0.006609566044062376), ('9', -0.01170476246625185), ('L', -0.014079657383263111), ('H', -0.016443336382508278), ('B', -0.022895289584994316), (';', -0.03373546525835991), ('_', -0.034634124487638474), ('U', -0.04932042211294174), ('G', -0.05192362517118454), ('R', -0.07313807308673859), ('0', -0.09157973527908325), ('6', -0.10476675629615784), ('7', -0.10589545220136642), ('T', -0.11042893677949905), ('4', -0.1236780658364296), ('1', -0.17408789694309235), ('A', -0.23435021936893463)]\n"
     ]
    }
   ],
   "source": [
    "newFile= \"integratio_filefMkFU4\"\n",
    "cleanNewFile = cleanText(newFile)\n",
    "new_vector = model.infer_vector(cleanNewFile.split())\n",
    "similarity_doc = model.docvecs.most_similar([new_vector],topn=len(model.docvecs))\n",
    "print(len(model.docvecs))\n",
    "print(similarity_doc)\n"
   ]
  }
 ],
 "metadata": {
  "kernelspec": {
   "display_name": "Python 3 (ipykernel)",
   "language": "python",
   "name": "python3"
  },
  "language_info": {
   "codemirror_mode": {
    "name": "ipython",
    "version": 3
   },
   "file_extension": ".py",
   "mimetype": "text/x-python",
   "name": "python",
   "nbconvert_exporter": "python",
   "pygments_lexer": "ipython3",
   "version": "3.10.5"
  }
 },
 "nbformat": 4,
 "nbformat_minor": 5
}
