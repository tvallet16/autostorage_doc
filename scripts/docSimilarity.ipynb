{
 "cells": [
  {
   "cell_type": "code",
   "execution_count": null,
   "id": "35b63ac8-8087-4163-9126-d8942702137c",
   "metadata": {},
   "outputs": [],
   "source": []
  },
  {
   "cell_type": "code",
   "execution_count": 1,
   "id": "84589c77-9729-458d-aa97-57971012dc9d",
   "metadata": {
    "tags": []
   },
   "outputs": [],
   "source": [
    "import gensim\n",
    "from gensim.models.doc2vec import Doc2Vec, TaggedDocument\n",
    "from textScrapper import TextScrapper\n",
    "from tqdm import tqdm\n",
    "import os\n",
    "import re\n",
    "import warnings\n",
    "from sklearn.model_selection import train_test_split\n",
    "warnings.filterwarnings('ignore')\n",
    "#from test_lib_scrapper_text import TextScrapper"
   ]
  },
  {
   "cell_type": "code",
   "execution_count": 2,
   "id": "c26bb7cc-8835-44fd-bdec-7d32cc41d649",
   "metadata": {},
   "outputs": [],
   "source": [
    "def convertToDic(lst):\n",
    "    res_dct = {lst[i]: lst[i + 1] for i in range(0, len(lst), 2)}\n",
    "    return res_dct"
   ]
  },
  {
   "cell_type": "code",
   "execution_count": 3,
   "id": "b4ee9e00-0194-494f-ab8b-31d3dbaac86d",
   "metadata": {},
   "outputs": [],
   "source": [
    "# exemple path file ../data/sncf_vinci_ifg_62/00086570-002601E-B007-20220323-R-VEN.pdf\n",
    "class fileTextManager():\n",
    "    \n",
    "\n",
    "    def cleanText(self, final_text):\n",
    "        if final_text != None:\n",
    "            final_text = re.sub(r\"[^A-Za-z0-9(),!.?\\'\\`]\", \" \", final_text[0] )\n",
    "            final_text = re.sub(r\"\\'s\", \" 's \", final_text )\n",
    "            final_text = re.sub(r\"\\'ve\", \" 've \", final_text )\n",
    "            final_text = re.sub(r\"n\\'t\", \" 't \", final_text )\n",
    "            final_text = re.sub(r\"\\'re\", \" 're \", final_text )\n",
    "            final_text = re.sub(r\"\\'d\", \" 'd \", final_text )\n",
    "            final_text = re.sub(r\"\\'ll\", \" 'll \", final_text )\n",
    "            final_text = re.sub(r\",\", \" \", final_text )\n",
    "            final_text = re.sub(r\"\\.\", \" \", final_text )\n",
    "            final_text = re.sub(r\"!\", \" \", final_text )\n",
    "            final_text = re.sub(r\"\\(\", \" ( \", final_text )\n",
    "            final_text = re.sub(r\"\\)\", \" ) \", final_text )\n",
    "            final_text = re.sub(r\"\\?\", \" \", final_text )\n",
    "            final_text = re.sub(r\"\\s{2,}\", \" \", final_text )\n",
    "        return final_text\n",
    "\n",
    "    def getExtension(self, file):\n",
    "        filename, file_extension = os.path.splitext(file)\n",
    "        return file_extension\n",
    "    \n",
    "    \n",
    "    def getFileText(self, file):\n",
    "        textScrap = TextScrapper()\n",
    "        typeDocumentNumber=[]\n",
    "        match file[\"mimeType\"]:\n",
    "            case 'application/pdf':\n",
    "                try:\n",
    "                    fullText = textScrap.getTextPdf(f\"/Volumes/DD Thibault/sncf_DB/doc/engie/{file['KidFile']}\")\n",
    "                except:\n",
    "                    fullText = None\n",
    "                fullText = self.cleanText(fullText)\n",
    "                return fullText\n",
    "            case 'application/vnd.ms-excel':\n",
    "                \n",
    "                fullText = textScrap.getTextExcel(f\"/Volumes/DD Thibault/sncf_DB/doc/engie/{file['KidFile']}\")\n",
    "                return fullText\n",
    "\n",
    "            case 'application/vnd.openxmlformats-officedocument.wordprocessingml.document':\n",
    "                fullText = textScrap.getTextWord(f\"/Volumes/DD Thibault/sncf_DB/doc/engie/{file['KidFile']}\")\n",
    "                return fullText\n",
    "            \n",
    "            #case 'application/vnd.openxmlformats-officedocument.spreadsheetml.sheet':\n",
    "                #fullText = textScrap.getTextWord(f\"/Volumes/DD Thibault/sncf_DB/doc/engie/{file['KidFile']}\")\n",
    "                #return fullText\n",
    "            #case 'image/jpeg':\n",
    "                #return 2\n",
    "\n",
    "            case _:\n",
    "                return 'document type not supported'\n",
    "                #raise ValueError('document type not supported')   # 0 is the default case if x is not found\n",
    "    "
   ]
  },
  {
   "cell_type": "code",
   "execution_count": null,
   "id": "5e3150f1-8a44-4ff9-b207-61bdd99cf7e3",
   "metadata": {
    "tags": []
   },
   "outputs": [
    {
     "name": "stdout",
     "output_type": "stream",
     "text": [
      "24101\n"
     ]
    },
    {
     "name": "stderr",
     "output_type": "stream",
     "text": [
      "618it [00:57,  4.97it/s]"
     ]
    }
   ],
   "source": [
    "csvPath = \"/Volumes/DD Thibault/sncf_DB/doc/engie/engie.csv\"\n",
    "scrapper = TextScrapper()\n",
    "csv = scrapper.getTextCsv(csvPath)\n",
    "dictPdfWord=[]\n",
    "fileManager = fileTextManager()\n",
    "print(len(csv))\n",
    "for row in tqdm(csv.iloc):\n",
    "    if row[\"mimeType\"] == \"application/pdf\" or row[\"mimeType\"] == \"application/vnd.openxmlformats-officedocument.wordprocessingml.document\":\n",
    "        contentFile = fileManager.getFileText(row)\n",
    "        #TODO charge content by batch\n",
    "        newFile = {\"fileName\": row[\"fileName\"], \"mimeType\": row[\"mimeType\"], \"content\": contentFile}\n",
    "        dictPdfWord.append(newFile)\n",
    "print(len(dictPdfWord))\n",
    "print(dictPdfWord[3])\n",
    "data, test_data = train_test_split(dicPdfWord,test_size=0.15)\n",
    "  "
   ]
  },
  {
   "cell_type": "code",
   "execution_count": 43,
   "id": "7d286552-0075-4b53-9bbf-958b7e712ed6",
   "metadata": {},
   "outputs": [
    {
     "ename": "SyntaxError",
     "evalue": "invalid syntax. Perhaps you forgot a comma? (4281743945.py, line 1)",
     "output_type": "error",
     "traceback": [
      "\u001b[0;36m  Input \u001b[0;32mIn [43]\u001b[0;36m\u001b[0m\n\u001b[0;31m    dic = {\"dic1\":[{\"e1\":\"e1\",\"e2\":\"e2\",\u001b[0m\n\u001b[0m                  ^\u001b[0m\n\u001b[0;31mSyntaxError\u001b[0m\u001b[0;31m:\u001b[0m invalid syntax. Perhaps you forgot a comma?\n"
     ]
    }
   ],
   "source": [
    "def tokenize(text, stopwords, max_len = 20):\n",
    "    return [token for token in gensim.utils.simple_preprocess(text, max_len=max_len) if token not in stopwords]\n",
    "\n",
    "cat_dict_tagged_train = {} # Contains clean tagged training data organized by category. To be used for the training corpus.\n",
    "cat_dict_test_clean = {} # Contains clean un-tagged training data organized by category.\n",
    "\n",
    "offset = 0 # Used for managing IDs of tagged documents\n",
    "for k, v in cat_dict.items():\n",
    "    cat_dict_tagged_train[k] = [gensim.models.doc2vec.TaggedDocument(tokenize(text, [], max_len=200), [i+offset]) for i, text in enumerate(v)]\n",
    "    offset += len(v)\n",
    "\n",
    "\n",
    "\n",
    "\n",
    "offset = 0\n",
    "for k, v in cat_dict_test.items():\n",
    "    cat_dict_test_clean[k] = [tokenize(text, [], max_len=200) for i, text in enumerate(v)]\n",
    "    offset += len(v)\n",
    "    \n",
    "# Eventually contains final versions of the training data to actually train the model\n",
    "train_corpus = [taggeddoc for taggeddoc_list in list(cat_dict_tagged_train.values()) for taggeddoc in taggeddoc_list]"
   ]
  },
  {
   "cell_type": "code",
   "execution_count": null,
   "id": "56b61aed-a382-4dac-ab9d-ad00e0c86dc7",
   "metadata": {},
   "outputs": [],
   "source": []
  }
 ],
 "metadata": {
  "kernelspec": {
   "display_name": "Python 3 (ipykernel)",
   "language": "python",
   "name": "python3"
  },
  "language_info": {
   "codemirror_mode": {
    "name": "ipython",
    "version": 3
   },
   "file_extension": ".py",
   "mimetype": "text/x-python",
   "name": "python",
   "nbconvert_exporter": "python",
   "pygments_lexer": "ipython3",
   "version": "3.10.5"
  }
 },
 "nbformat": 4,
 "nbformat_minor": 5
}
