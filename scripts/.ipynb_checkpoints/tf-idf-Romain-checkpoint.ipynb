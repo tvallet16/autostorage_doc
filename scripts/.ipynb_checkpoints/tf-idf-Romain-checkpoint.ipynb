{
 "cells": [
  {
   "cell_type": "code",
   "execution_count": 1,
   "id": "ce1817d9-5d45-45f9-8650-d5a22bf9303d",
   "metadata": {},
   "outputs": [],
   "source": [
    "import os\n",
    "from sklearn.feature_extraction.text import TfidfVectorizer\n",
    "from textScrapper import TextScrapper\n",
    "from PyPDF2 import PdfReader\n",
    "from tqdm import tqdm\n",
    "import warnings\n",
    "warnings.filterwarnings('ignore')\n",
    "from sklearn.model_selection import train_test_split\n",
    "import pandas as pd\n",
    "from pathlib import Path\n"
   ]
  },
  {
   "cell_type": "code",
   "execution_count": 2,
   "id": "613a5d77-657e-43d0-a54e-3a5dad7cf861",
   "metadata": {},
   "outputs": [],
   "source": [
    "# exemple path file ../data/sncf_vinci_ifg_62/00086570-002601E-B007-20220323-R-VEN.pdf\n",
    "class fileTextManager():\n",
    "    \n",
    "    def __init__ (self):\n",
    "        self.current_DB= \"sncf_engie_ifg_82\"\n",
    "        \n",
    "        \n",
    "    def cleanText(self, text):\n",
    "        char=\"abcdefghijklmnopqrstuvwxyzéèàçôùëïüûâùäîê-. \"\n",
    "        lowercaseText= [text][0].lower()\n",
    "        cleanText = \"\"\n",
    "        for letter in lowercaseText:\n",
    "            if letter in char:\n",
    "                cleanText = cleanText + letter\n",
    "        return cleanText\n",
    "\n",
    "    def getExtension(self, file):\n",
    "        filename, file_extension = os.path.splitext(file)\n",
    "        return file_extension\n",
    "    \n",
    "    \n",
    "    def getFileText(self, file):\n",
    "        textScrap = TextScrapper()\n",
    "        typeDocumentNumber=[]\n",
    "        match file[\"mimeType\"]:\n",
    "            case \"application/pdf\":\n",
    "                #try: \n",
    "                fullText = textScrap.getTextPdf(f\"/Volumes/DD Thibault/sncf_DB/doc/{self.current_DB}/K_NODE;0021905M2T1A1B8C2L\")\n",
    "                \n",
    "                fullText = self.cleanText(fullText)\n",
    "                print(repr(fullText))\n",
    "                \n",
    "                \n",
    "                #print (f\"{repr(fullText)} file print\")\n",
    "                \n",
    "                \n",
    "                #except:\n",
    "                    #fullText = ''\n",
    "                return fullText\n",
    "            case 'application/vnd.ms-excel':\n",
    "                \n",
    "                fullText = textScrap.getTextExcel(f\"/Volumes/DD Thibault/sncf_DB/doc/{self.current_DB}/{file['KidFile']}\")\n",
    "                return fullText\n",
    "\n",
    "            case 'application/vnd.openxmlformats-officedocument.wordprocessingml.document':\n",
    "                fullText = textScrap.getTextWord(f\"/Volumes/DD Thibault/sncf_DB/doc/{self.current_DB}/{file['KidFile']}\")\n",
    "                return fullText\n",
    "            \n",
    "            #case 'application/vnd.openxmlformats-officedocument.spreadsheetml.sheet':\n",
    "                #fullText = textScrap.getTextWord(f\"/Volumes/DD Thibault/sncf_DB/doc/engie/{file['KidFile']}\")\n",
    "                #return fullText\n",
    "            #case 'image/jpeg':\n",
    "                #return 2\n",
    "\n",
    "            case _:\n",
    "                return 'document type not supported'\n",
    "                #raise ValueError('document type not supported')   # 0 is the default case if x is not found\n",
    "    "
   ]
  },
  {
   "cell_type": "code",
   "execution_count": 3,
   "id": "1ff71400-9186-4fb0-abde-83797ff68438",
   "metadata": {
    "tags": []
   },
   "outputs": [
    {
     "name": "stdout",
     "output_type": "stream",
     "text": [
      "3154\n",
      "fileName            004028270 RES GAZ 669G164 NOISY SERVICE MECA.pdf\n",
      "KidDocumentClass                              K_NODE;cATERTETANCHGAZ\n",
      "fileSize                                                      355382\n",
      "mimeType                                             application/pdf\n",
      "owner                                      PROFIL;0001015M024W22FS1Q\n",
      "creationDate                                     2021-09-29 15:34:59\n",
      "KidFile                                    K_NODE;0021905M3187FQ2S05\n",
      "Name: 4, dtype: object\n"
     ]
    },
    {
     "name": "stderr",
     "output_type": "stream",
     "text": [
      "0it [00:01, ?it/s]"
     ]
    },
    {
     "name": "stdout",
     "output_type": "stream",
     "text": [
      "'cidcidcidcidcidcidcidcidcidcidcidcidcidcidcidcidcidcidcidcidcidcidcidcidcidcidcidcidcidcidcidcidcidcidcidcidcidcidcidcidcidcidcidcidcidcidcidcidcidcidcidcidcidcidcidcidcidcidcidcidcidcidcidcidcidcidcidcidcidcidcidcidcidcidcidcidcidcidcidcidcidcidcidcidcidcidcidcidcidcidcidcidcidcidcidcidcidcidcidcidcidcidcidcidcidcidcidcidcidcidcidcidcidcidcidcidcidcidcidcidcidcidcidcidcidcidcidcidcidcidcidcidcidcidcidcidcidcidcidcidcidcidcidcidcidcidcidcidcidcidcidcidcidcidcidcidcidcidcidcidcidcidcidcidcidcidcidcidcidcidcidcidcidcidcidcidcidcidcidcidcidcidcidcidcidcidcidcidcidcidcidcidcidcidcidcidcidcidcidcidcidcidcidcidcidcidcidcidcidcidcidcidcidcidcidcidcidcidcidcidcidcidcidcidcidcidcidcidcidcidcidcidcidcidcidcidcidcidcidcidcidcidcidcidcidcidcidcidcidcidcidcidcidcidcidcidcidcidcidcidcidcidcidcidcidcidcidcidcidcidcidcidcidcidcidcidcidcidcidcidcidcidcidcidcidcidcidcidcidcidcidcidcidcidcidcidcidcidcidcidcidcidcidcidcidcidcidcidcidcidcidcidcidcidcidcidcidcidcidcidcidn cidcidcidcidcidcidcidcidcidcidcidcidcidcidcidcidcidcidcidcidcidcidcidcidcidcidcidcidcidcidcidcidcidcidcidcidcidcidcidcidcidcidcidcidcidcidcidcidcidcidcidcidcidcidcidcidcidcidcidcidcidcidcidcidcidcidcidcidcidcidcidcidcidcidcidcidcidcidcidcidcidcidcidcidcidcidcidcidcidcidcidcidcidcidcidcidcidcidcidcidcidcidcidcidcidcidcidcidcidcidcidcidcidcidcidcidcidcidcidcidcidcidcidcidcidcidcidcidcidcidcidcidcidcidcidcidcidcidcidcidcidcidcidcidcidcidcidcidcidcidcidcidcidcidcidcidcidcidcidcidcidcidcidcidcidcidcidcidcidcidcidcidcidcidcidcidcidcidcidcidcidcidcidcidcidcidcidcidcidcidcidcidcidcidcidcidcidcidcidcidcidcidcidcidcidcidcidcidcidcidcidcidcidcidcidcidcidcidcidcidcidcidcidcidcidcidcidcidcidcidcidcidcidcidcidcidcidcidcidcidcidcidcidcidcidcidcidcidcidcidcidcidcidcidcidcidcidcidcidcidcidcidcidcidcidcidcidcidcidcidcidcidcidcidcidcidcidcidcidcidcidcidcidcidcidcidcidcidcidcidcidcidcidcidcidcidcidcidcidcidcidcidcidcidcidcidcidcidcidcidcidcidcidcidcidcidcidcidcidcidcidcidcidcidcidcidcidcidcidcidcidcidcidcidcidcidcidcidcidcidcidcidcidcidcidcidcidcidcidcidcidcidcidcidcidcidcidcidcidcidcidcidcidcidcidcidcidcidcidcidcidcidcidcidcidcidcidcidcidcidcidcidcidcidcidcidcidcidcidcidcidcidcidcidcidcidcidcidcidcidcidcidcidcidcidcidcidcidcidcidcidcidcidcidcidcidcidcidcidcidcidcidcidcidcidcidcidcidcidcidcidcidcidcidcidcidcidcidcidcidcidcidcidcidcidcidcidcidcidcidcidcidcidcidcidcidcidcidcidcidcidcidcidcidcidcidcidcidcidcidcidcidcidcidcidcidcidcidcidcidcidcidcidcidcidcidcidcidcidcidcidcidcidcidcidcidcidcidcidcidcidcidcidcidcidcidcidcidcidcidcidcidcidcidcidcidcidcidcidcidcidcidcidcidcidcidcidcidcidcidcidcidcidcidcidcidcidcidcidcidcidcidcidcidcidcidcidcidcidcidcidcidcidcidcidcidcidcidcidcidcidcidcidcidcidcidcidcidcidcidcidcidcidcidcidcidcidcidcidcidcidcidcidcidcidcidcidcidcidcidcidcidcidcidcidcidcidcidcidcidcidcidcidcidcidcidcidcidcidcidcidcidcidcidcidcidcidcidcidcidcidcidcidcidcidcidcidcidcidcidcidcidcidcidcidcidcidcidcidcidcidcidcidcidcidcidcidcidcidcidcidcidcidcidcidcidcidcidcidcidcidcidcidcidcidcidcidcidcidcidcidcidcidcidcidcidcidcidcidcidcidcidcidcidcidcidcidcidcidcidcidcidcidcidcidcidcidcidcidcidcidcidcidcidcidcidcidcidcidcidcidcidcidcidcidcidcidcidcidcidcidcidcidcidcidcidcidcidcidcidcidcidcidcidcidcidcidcidcidcidcidcidcidcidcidcidcidcidcidcidcidcidcidcidcidcidcidcidcidcidcidcidcidcidcidcidcidcidcidcidcidcidcidcidcidcidcidcidcidcidcidcidcidcidcidcidcidcidcidcidcidcidcidcidcidcidcidcidcidcidcidcidcidcidcidcidcidcidcidcidcidcidcidcidcidcidcidcidcidcidcidcidcidcidcidcidcidcidcidcidcidcidcidcidcidcidcidcidcidcidcidcidcidcidcidcidcidcidcidcidcidcidcidcidcidcidcidcidcidcidcidcidcidcidcidcidcidcidcidcidcidcidcidcidcidcidcidcidcidcidcidcidcidcidcidcidcidcidcidcidcidcidcidcidcidcidcidcidcidcidcidcidcidcidcidcidcidcidcidcidcidcidcidcidcidcidcidcidcidcidcidcidcidcidcidncidcidcidcidcidcidcidcidcidcidcidcidcidcidcidcidcidcidcidcidcidcidcidcidcidcidcidcidcidcidcidcidcidcidcidcidcidcidcidcidcidcidcidcidcidlocalisation de la fuiteréparation de la fuitecidcidcidcidcidcidcidcidcidcidcidcidcidcidcidcidcidcidcidcidcidcidcidcidcidcidcidcidcidcidcidcidcidcidcidcidcidcidcidcidcidcidcidcidcidcidcidcidcidcidcidcidcidcidcidcidcidcidcidcidcidcidcidcidcidcidcidcidcidcidcidcidcidcidcidcidcidcidcidcidcidcidcidcidcidcidcidcidcidcidcidcidcidcidcidcidcidcidcidcidcidcidcidcidcidcidcidcidcidcidcidcidcidcidcidcidcidcidcid cidcidcidcidcidcidcidcidcidcidcidcidcidcidcidcidcidcidcidcidcidcidcidcidcidcidcidcidcidcidcidcidcidcidcidcidcidcidcidcidcidcidcidcidcidcidcidcidcidcidcidcidcidcidcidcidcidcidcidcidcidcidcidcidcidcidcidcidcidcidcidcidcidcidcidcidcidcidcidcidcidcidcidcidcidcidcidcidcidcidcidcidcidcidcidcidcidcidcidcidcidcidcidcidcidcidcidcidcidcidcidcidcidcidcidcidcidcidcidcidcidcidcidcidcidcidcidcidcidcidcidcidcidcidcidcidcidcidcidcidcidcidcidcidcidcidcidcidcidcidcidcidcidcidcidcidcidcidcidcidcidcidcidcidcidcidcidcidcidcidcidcidcidcidcidcidcidcidcidcidcidcidcidcidcidcidcidcidcidcidcidcidcidcidcidcidcidcidcidcidcidcidcidcidcidcidcidcidcidcidcidcidcidcidcidcidcidcidcidcidcidcidcidcidcidcidcidcidcidcidcidcidcidcidcidcidcidcidcidcidcidcidcidcidcidcidcidcidcidcidcidcidcidcidcidcidcidcidcidcidcidcidcidcidcidcidcidcidcidcidcid cidcidcidcidcidcidcidcidcidcidcidcidcidcidcidcidcidcidcidcidcidcidcidcidcidcidcidcidcidcidcidcidcidcidcidcidcidcidcidcidcidcidcidcidcidcidcidcidcidcidcidcidcidcidcidcidcidcidcidcidcidcidcidcidcidcidcidcidcidcidcidcidcidcidcidcidcidcidcidcidcidcidcidcidcidcidcidcidcidcidcidcidcidcidcidcidcidcidcidcidcidcidcidcidcidcidcidcidcidcidcidcidcidcidcidcidcidcidcidcidcidcidcidcidcidcidcidcidcidcidcidcidcidcidcidcidcidcidcidcidcidcidcidcidcidcidcidcidcidcidcidcidcidcidcidcidcidcidcidcidcidcidcidcidcidcidcidcidcidcidcidcidcidcidcidcidcidcidcidcidcidcidcidcidcidcidcidcidcidcidcidcidcidcidcidcidcidcidcidcidcidcidcidcidcidcidcidcidcidcidcidcidcidcidcidcidcidcidcidcidcidcidcidcidcidcidcidcidcidcidcidcidcidcidcidcidcidcidcidcidcidcidcidcidcidcidcidcidcidcidcidcidcidcidcidcidcidcidcidcidcidcidcidcidcidcidcidcidcidcidcidcidcidcidcidcidcidcidcidcidcidcidcidcidcidcidcidcidcidcidcidcidcidcidcidcidcidcidcidcidcidcidcidcidcidcidcidcidcidcidcidcidcidcidcidcidcidcidcidcidcidcidcidcidcidcidcidcidcidcidcidcidcidcidcidcidcidcidcidcidcidcidcidcidcidcidcidcidcidcidcidcidcidcidcidcidcidcidcidcidcidcidcidcidcidcidcidcidcidcidcidcidcidcidcidcidcidcidcidcidcidcidcidcidcidcidcidcidcidcidcidcidcidcidcidcidcidcidcidcidcidcidcidcidcidcidcidcidcidcidcidcidcidcidcidcidcidcidcidcidcidcidcidcidcidcidcidcidcidcidcidcidcidcidcidcidcidcidcidcidcidcidcidcidcidcidcidcidcidcidcidcidcidcidcidcidcidcidcidcidcidcidcidcidcidcidcidcidcidcidcidcidcidcidcidcidcidcidcidcidcidcidcidcidcidcidcidcidcidcidcidcidcidcidcidcidcidcidcidcidcidcidcidcidcidcidcidcidcidcidcidcidcidcidcidcidcidcidcidcidcidcidcidcidcidcidcidcidcidcidcidcidcidcidcidcidcidcidcidcidcidcidcidcidcidcidcidcidcidcidcidcidcidcidcidcidcidcidcidcidcidcidcidcidcidcidcidcidcidcidcidcidcidcidcidcidcidcidcidcidcidcidcidcidcidcidcidcidcidcidcidcidcidcidcidcidcidcidcidcidcidcidcidcidcidcidcidcidcidcidcidcidcidcidcidcidcidcidcidcidcidcidcidcidcidcidcidcidcidcidcidcidcidcidcidcidcidcidcidcidcidcidcidcidcidcidcidcidcidcidcidcidcidcidcidcidcidcidcidcidcidcidcidcidcidcidcidcidcidcidcidcidcidcidcidcidcidcidcidcidcidcidcidcidcidcidcidcidcidcidcidcidcidcidcidcidcidcidcidcidcidcidcidcidcidcidcidcidcidcidcidcidcidcidcidcidcidcidcidcidcidcidcidcidcidcidcidcidcidcidcidcidcidcidcidcidcidphoto  photo  photo  photo  photo  photo  modalités de remplissage fibsd opérateur indiquer son nom raison sociale son numéro siret et son n dattestation de capacité. dans le cas dun collecteur de petites quantités de déchets cest-à-dire lorsque lopérateur stockera les déchets générés par lintervention dans un contenant qui recevra dautres déchets de fluides frigorigènes provenant dautres équipements cocher la case correspondante et joindre lannexe  du formulaire. les champs  à  ne seront plus à remplir dans ce cas.  détenteur indiquer son nom son adresse et son numéro siret.  equipement concerné indiquer  - lidentification de léquipement  marque commerciale et référence constructeur du modèle de léquipement éventuel repérage donné à léquipement et au circuit lorsque plusieurs équipements similaires sont présents sur le site  - la nature du fluide frigorigène fluoré quil contient ex  r-a - la charge totale de léquipement en kg et pour les équipements contenant des hfc ou pfc le tonnage équivalent co de léquipement p.r.p. x charge de léquipement en kg  . reprendre les informations figurant sur la plaque signalétique de léquipement prévue à larticle r. - du code de lenvironnement.  nature de lintervention cocher le motif de lintervention correspondant à lintervention réalisée.- mise en service de léquipement  première mise en route dun équipement neuf dun équipement doccasion ou suite à un changement de fluide frigorigène réalisé sur léquipement - modification de léquipement  changement de caractéristiques de léquipement suite à retrofit drop-in extension - maintenance de léquipement  opération de maintenance courante par exemple  changement de filtre ou de cartouche déshydratante purge dincondensable purge et appoint dhuile retrait et charge de fluide frigorigène et entraînant louverture du circuit frigorifique. - contrôle détanchéité périodique  contrôle détanchéité réalisé sur léquipement tous les    ou  mois en fonction de la charge de celui-ci kg ou tonnage équivalent co et la présenceabsence dun système de détection des fuites conforme à la réglementation en vigueur. - contrôle détanchéité non périodique  contrôle détanchéité réalisé après une réparation ou à la suite dune ouverture du circuit frigorifique pendant des opérations de maintenance. - démantèlement  mise à larrêt définitive de léquipement entrainant le retrait de sa charge en fluide frigorigène - autre préciser  toute intervention autre que celles décrites.  détecteur manuel de fuite mentionner son identification n de série ou repère ainsi que la date du dernier contrôle.  présence dun système de détection des fuites cocher  oui  si un tel système conforme à la réglementation est présent  non  dans le cas contraire.  quantité de fluide frigorigène dans léquipement cocher la case correspondant à la charge de léquipement hcfc ou à son tonnage équivalent co hfc et pfc voir point  pour le calcul de ce tonnage équivalent.  équipements hcfc et équipements hfc sans système de détection des fuites cocher la périodicité du contrôle qui correspond à celle des équipements utilisant des fluides hcfc et des équipements utilisant des fluides hfc en labsence dun système de détection des fuites conforme à la réglementation qui alerte lexploitant en cas de fuite.  équipements hfc avec système de détection des fuites cocher la périodicité du contrôle pour les équipements utilisant des fluides hfc en présence dun système de détection des fuites conforme à la réglementation qui alerte lexploitant en cas de fuite.  fuites constatées lors du contrôle détanchéité cocher  oui  ou  non  selon le résultat du contrôle si une ou des fuites sont identifiées lors du contrôle détanchéité indiquer la localisation de la fuite si la réparation a été réalisée ou si elle reste à faire. les fuites en attente de réparation sont identifiées par le marquage défini à larticle r.--. pour les équipements contenant plus de  kg de hcfc ou plus de  tonnes équivalent co de hfc ou pfc une copie de cette fiche est envoyée au préfet article r.-.  manipulation du fluide frigorigène quantité chargée totale  quantité totale de fluide frigorigène chargée dans un équipement au cours dune intervention somme de a  b  c. a  dont fluide vierge  quantité de substance ou mélange de substances qui nont pas été utilisées antérieurement et qui sont chargées dans un équipement b  dont fluide recyclé  quantité de fluide récupéré dans léquipement lors dune intervention en vue dêtre réintroduit dans léquipement. c  dont fluide régénéré  quantité de fluide ayant été antérieurement récupéré puis traité par un organisme de traitement de fluides frigorigènes afin de présenter des performances équivalentes à celles dun fluide vierge par exemple le r-a régénéré. quantité de fluide récupérée totale d  e  quantité totale de fluide frigorigène récupéré dans léquipement pendant une intervention somme de d  e d  dont fluide destiné au traitement quantité de fluide récupéré dans léquipement lors dune intervention et retourné au distributeur en vue de son traitement régénération ou destruction. cette case apparaît en mauve car elle déclenche lobligation de remplir la partie du formulaire dédiée au suivi des déchets soit par remplissage des champs  à  si les déchets sont stockés dans un contenant dédié soit par remplissage de lannexe  si le contenant accueillant les déchets sera amené à accueillir conjointement des déchets de fluides frigorigènes issus dautres équipements. e  dont fluide conservé pour réutilisation  quantité de fluide récupéré dans léquipement lors dune intervention et conservé en vue de sa réintroduction dans léquipement. identifiant du contenant  indiquer le numéro didentification de la bouteille ou du container de récupération n esp transportable par exemple. cas particulier si les déchets générés par lintervention nécessitent plus dun contenant mettre ici lidentifiant de chacun des contenants utilisés. ----------------------------------------------------------------------------------------------------------------------------------------------------------------------------------------------------------------------------------------------------- si lintervention ne génère pas de déchets de fluides frigorigènes ne pas remplir les champs  à . cas particulier  si les déchets générés par lintervention sont stockés dans un contenant qui est appelé à stocker conjointement dautres déchets de fluides frigorigènes issus dautres équipements ce ne sont pas ces champs  à  mais lannexe  quil convient de remplir.  code un dénomination adrrid le producteur renseigne le code un et la dénomination adr du déchet de fluide suivant les deux possibilités suivantes  - cas général  sont utilisés le code un  généraliste pour les gaz réfrigérants et la dénomination adr  déchets gaz réfrigérant nsa . ce  - cas particulier  pour tout fluide inflammable ou tout fluide dont le code un est différent la case  autre  est cochée et le code un ainsi que la dénomination adr spécifiques sont indiqués exemples  pour le r - code un  et dénomination adr  déchets trifluorométhane gaz réfrigérant r  pour le r - code un  et dénomination adr  déchets difluorométhane gaz réfrigérant r  pour le ra - code un  et dénomination adr  déchets gaz réfrigérant ra  pour le ra - code un  et dénomination adr  déchets gaz liquéfié n.s.a. r r   installation de destination indiquer le nom et ladresse de linstallation de destination cest-à-dire celle qui va recevoir le déchet de fluide frigorigène destiné à être traité après son retrait de léquipement.  transporteur indiquer le nom et ladresse du transporteur celui qui va transporter le fluide destiné à être vers linstallation de destination. si lopérateur effectue lui-même le transport ne pas remplir.  observationsobservations diverses à noter ici.  installation de traitement code rd  linstallation de traitement indique le code adéquat correspondant à lopération de valorisation ou délimination réalisée sur le fluide frigorigène réceptionné. quantité réceptionnée  linstallation de traitement indique la quantité quelle a réellement réceptionnée. date  pour opérateur et détenteur indiquer la date dintervention sur léquipement. pour linstallation de traitement la date à indiquer est celle de réception du déchet de fluide frigorigène. n de bordereau de collecte de petites quantitéssi les déchets générés par lintervention sont stockés dans un contenant issu de déchets de fluides frigorigènes équipements noter le numéro de bordereau de lannexe . la consigne engie cofely est de ne pas se positionner en collecteur de petite quantité. n de bordereau de transformation traitementa renseigner par lexploitant de linstallation de transformation  traitement. copier le numéro du bordereau de regroupement de lannexe .'\n"
     ]
    },
    {
     "name": "stderr",
     "output_type": "stream",
     "text": [
      "\n"
     ]
    }
   ],
   "source": [
    "csvPath = \"/Volumes/DD Thibault/sncf_DB/doc/sncf_engie_ifg_82.csv\"\n",
    "scrapper = TextScrapper()\n",
    "csv = scrapper.getTextCsv(csvPath)\n",
    "dictPdfWord=[]\n",
    "fileManager = fileTextManager()\n",
    "print(len(csv))\n",
    "print(csv.iloc[4])\n",
    "orderedCorpus = {}\n",
    "dictType={}\n",
    "lenth = 0\n",
    "types = []\n",
    "pdf=0\n",
    "word=0\n",
    "img=0\n",
    "\n",
    "for row in tqdm((csv.iloc)):\n",
    "    if row[\"mimeType\"] == \"application/pdf\" or row[\"mimeType\"] == \"application/vnd.openxmlformats-officedocument.wordprocessingml.document\":\n",
    "        contentFile = fileManager.getFileText(row)\n",
    "        if row['KidDocumentClass'] in dictType:\n",
    "            dictType[row['KidDocumentClass']].append(contentFile)\n",
    "        else:\n",
    "            dictType[row['KidDocumentClass']]=[]\n",
    "            dictType[row['KidDocumentClass']].append(contentFile)\n",
    "    break\n",
    "\n",
    "        #TODO charge content by batch\n",
    "\n",
    "\n",
    "            \n"
   ]
  },
  {
   "cell_type": "code",
   "execution_count": 19,
   "id": "8d9c14f0-bd55-45bc-a402-bb861f7d6fc0",
   "metadata": {
    "tags": []
   },
   "outputs": [],
   "source": [
    "data = {}\n",
    "for key in dictType:\n",
    "    \n",
    "    for file in dictType[key]:\n",
    "\n",
    "        dictType[key] = list(filter(None, dictType[key]))\n",
    "        \n",
    "    \n",
    "    if len(dictType[key]) >= 20:\n",
    "        if key in data:\n",
    "            data[key][\"data\"], data[key][\"test\"]= train_test_split(dictType[key],test_size=0.20)\n",
    "        else :\n",
    "            data[key] = {\"data\":[], \"test\":[]}\n",
    "            data[key][\"data\"], data[key][\"test\"]= train_test_split(dictType[key],test_size=0.20)\n"
   ]
  },
  {
   "cell_type": "code",
   "execution_count": 9,
   "id": "ca3a5638-6712-4e86-87a6-06018c5cc413",
   "metadata": {},
   "outputs": [],
   "source": [
    "def compareDocument(doc):\n",
    "    vectorizer = TfidfVectorizer()\n",
    "    tamp = -1\n",
    "    for types in data:\n",
    "            \n",
    "        vecs = vectorizer.fit_transform(data[types][\"data\"] + [doc])\n",
    "        \n",
    "        corr_matrix = ((vecs * vecs.T).A)\n",
    "        dim = len(data[types][\"data\"])\n",
    "        similarity = corr_matrix[dim:, :dim].mean()\n",
    "        if tamp < similarity:\n",
    "            tamp = similarity\n",
    "            sim = [types, similarity]        \n",
    "    return sim\n",
    "    "
   ]
  },
  {
   "cell_type": "code",
   "execution_count": 10,
   "id": "e39dc0dc-bde4-4145-b44a-c08070cf8cd3",
   "metadata": {},
   "outputs": [
    {
     "name": "stdout",
     "output_type": "stream",
     "text": [
      "1805\n",
      "456\n"
     ]
    }
   ],
   "source": [
    "lenth = 0\n",
    "lenthTest=0\n",
    "for types in data:\n",
    "    lenth = lenth + len(data[types][\"data\"])\n",
    "    lenthTest = lenthTest + len(data[types][\"test\"])\n",
    "    \n",
    "print(lenth)\n",
    "print(lenthTest)"
   ]
  },
  {
   "cell_type": "code",
   "execution_count": 11,
   "id": "9fa154d2-b30d-45e7-8908-bc3d064edb25",
   "metadata": {
    "tags": []
   },
   "outputs": [
    {
     "name": "stderr",
     "output_type": "stream",
     "text": [
      "100%|███████████████████████████████████████████████████████████████████████████████████████| 8/8 [07:52<00:00, 59.00s/it]"
     ]
    },
    {
     "name": "stdout",
     "output_type": "stream",
     "text": [
      "19\n",
      "437\n",
      "95.83333333333333 % reliable\n"
     ]
    },
    {
     "name": "stderr",
     "output_type": "stream",
     "text": [
      "\n"
     ]
    }
   ],
   "source": [
    "fail= 0\n",
    "succes=0\n",
    "for types in tqdm(data):\n",
    "    for file in data[types][\"test\"]:\n",
    "        \n",
    "        simFile = compareDocument(file)\n",
    "        if simFile[0] == types:\n",
    "            succes +=1\n",
    "        else:\n",
    "            fail+=1\n",
    "            \n",
    "print(fail)\n",
    "print(succes)\n",
    "print(f\"{100-(fail*100/(fail+succes))} % reliable\")\n"
   ]
  },
  {
   "cell_type": "code",
   "execution_count": 11,
   "id": "a2430539-919a-4722-89b4-69894ce7da49",
   "metadata": {},
   "outputs": [
    {
     "name": "stdout",
     "output_type": "stream",
     "text": [
      "[[1.         0.87619054 0.90638486 ... 0.87575332 0.88377529 0.90309591]\n",
      " [0.87619054 1.         0.90194588 ... 0.89867386 0.88121014 0.89149444]\n",
      " [0.90638486 0.90194588 1.         ... 0.89311348 0.91656203 0.92146293]\n",
      " ...\n",
      " [0.87575332 0.89867386 0.89311348 ... 1.         0.87374231 0.88504671]\n",
      " [0.88377529 0.88121014 0.91656203 ... 0.87374231 1.         0.90287938]\n",
      " [0.90309591 0.89149444 0.92146293 ... 0.88504671 0.90287938 1.        ]]\n",
      "109\n",
      "0.8904389841707024\n"
     ]
    }
   ],
   "source": [
    "vectorizer = TfidfVectorizer()\n",
    "\n",
    "vecs = vectorizer.fit_transform(data[\"K_NODE;cATERTFLUIDO\"][\"data\"] + data[\"K_NODE;cATERTFLUIDO\"][\"test\"])\n",
    "corr_matrix = ((vecs * vecs.T).A)\n",
    "print(corr_matrix)\n",
    "dim = len(data[\"K_NODE;cATERTFLUIDO\"][\"data\"])\n",
    "print(dim)\n",
    "similarity = corr_matrix[dim:, :dim].mean() \n",
    "print(similarity)\n"
   ]
  },
  {
   "cell_type": "code",
   "execution_count": 61,
   "id": "32358f89-65e3-40de-a300-6d728679e012",
   "metadata": {},
   "outputs": [
    {
     "ename": "NameError",
     "evalue": "name 'tfm_docs' is not defined",
     "output_type": "error",
     "traceback": [
      "\u001b[0;31m---------------------------------------------------------------------------\u001b[0m",
      "\u001b[0;31mNameError\u001b[0m                                 Traceback (most recent call last)",
      "Input \u001b[0;32mIn [61]\u001b[0m, in \u001b[0;36m<cell line: 1>\u001b[0;34m()\u001b[0m\n\u001b[0;32m----> 1\u001b[0m \u001b[38;5;28;01mfor\u001b[39;00m i, doc \u001b[38;5;129;01min\u001b[39;00m \u001b[38;5;28menumerate\u001b[39m(\u001b[43mtfm_docs\u001b[49m):\n\u001b[1;32m      3\u001b[0m     tf_idf_tuples \u001b[38;5;241m=\u001b[39m \u001b[38;5;28mlist\u001b[39m(\u001b[38;5;28mzip\u001b[39m(vectorizer\u001b[38;5;241m.\u001b[39mget_feature_names(), doc))\n\u001b[1;32m      4\u001b[0m     one_doc_as_df \u001b[38;5;241m=\u001b[39m pd\u001b[38;5;241m.\u001b[39mDataFrame\u001b[38;5;241m.\u001b[39mfrom_records(tf_idf_tuples, columns\u001b[38;5;241m=\u001b[39m[\u001b[38;5;124m\"\u001b[39m\u001b[38;5;124mterm\u001b[39m\u001b[38;5;124m\"\u001b[39m, \u001b[38;5;124m\"\u001b[39m\u001b[38;5;124mscore\u001b[39m\u001b[38;5;124m\"\u001b[39m])\\\n\u001b[1;32m      5\u001b[0m                                 \u001b[38;5;241m.\u001b[39msort_values(by\u001b[38;5;241m=\u001b[39m\u001b[38;5;124m\"\u001b[39m\u001b[38;5;124mscore\u001b[39m\u001b[38;5;124m\"\u001b[39m, ascending\u001b[38;5;241m=\u001b[39m\u001b[38;5;28;01mFalse\u001b[39;00m)\\\n\u001b[1;32m      6\u001b[0m                                 \u001b[38;5;241m.\u001b[39mreset_index(drop\u001b[38;5;241m=\u001b[39m\u001b[38;5;28;01mTrue\u001b[39;00m)\n",
      "\u001b[0;31mNameError\u001b[0m: name 'tfm_docs' is not defined"
     ]
    }
   ],
   "source": [
    "for i, doc in enumerate(tfm_docs):\n",
    "    \n",
    "    tf_idf_tuples = list(zip(vectorizer.get_feature_names(), doc))\n",
    "    one_doc_as_df = pd.DataFrame.from_records(tf_idf_tuples, columns=[\"term\", \"score\"])\\\n",
    "                                .sort_values(by=\"score\", ascending=False)\\\n",
    "                                .reset_index(drop=True)\n",
    "print(one_doc_as_df)\n",
    "vectorizer.get_feature_names()[-10:-1]"
   ]
  },
  {
   "cell_type": "code",
   "execution_count": 30,
   "id": "e5014ba9-7ae5-44a0-b7d8-887af1e5c481",
   "metadata": {},
   "outputs": [],
   "source": [
    "tf_df_reduc = one_doc_as_df.iloc[1:20, :]"
   ]
  },
  {
   "cell_type": "code",
   "execution_count": 31,
   "id": "13a779a3-ae97-4afe-9e7f-ca6fe57c8bf2",
   "metadata": {},
   "outputs": [
    {
     "data": {
      "text/plain": [
       "[Text(0, 0, 'smart'),\n",
       " Text(1, 0, 'uuw'),\n",
       " Text(2, 0, 'bbb'),\n",
       " Text(3, 0, 'loupe'),\n",
       " Text(4, 0, 'lg'),\n",
       " Text(5, 0, 'inverter'),\n",
       " Text(6, 0, 'leaz'),\n",
       " Text(7, 0, 'seeker'),\n",
       " Text(8, 0, 'total'),\n",
       " Text(9, 0, 'grondin'),\n",
       " Text(10, 0, 'ii'),\n",
       " Text(11, 0, 'place'),\n",
       " Text(12, 0, 'champ'),\n",
       " Text(13, 0, 'texte'),\n",
       " Text(14, 0, 'case'),\n",
       " Text(15, 0, 'slider'),\n",
       " Text(16, 0, 'compteur'),\n",
       " Text(17, 0, 'cocher'),\n",
       " Text(18, 0, 'igorigènes')]"
      ]
     },
     "execution_count": 31,
     "metadata": {},
     "output_type": "execute_result"
    },
    {
     "data": {
      "image/png": "[encoded data removed]",
      "text/plain": [
       "<Figure size 1080x1080 with 1 Axes>"
      ]
     },
     "metadata": {},
     "output_type": "display_data"
    }
   ],
   "source": [
    "import seaborn as sns\n",
    "import matplotlib.pyplot as plt\n",
    "\n",
    "plt.figure(figsize=(15, 15))\n",
    "sns.set(font_scale=1.5)\n",
    "barplot = sns.barplot(x=\"term\",\n",
    "                      y=\"score\",\n",
    "                      data=tf_df_reduc)\n",
    "\n",
    "barplot.set_xticklabels(barplot.get_xticklabels(), \n",
    "                        rotation=45,\n",
    "                        size = 15)\n"
   ]
  },
  {
   "cell_type": "code",
   "execution_count": 16,
   "id": "cb536399-68e2-4106-b6ff-69bd8c8512a4",
   "metadata": {},
   "outputs": [
    {
     "name": "stdout",
     "output_type": "stream",
     "text": [
      "<class 'str'>\n"
     ]
    }
   ],
   "source": [
    "lists = \"coucou\"\n",
    "print(type(lists))"
   ]
  },
  {
   "cell_type": "code",
   "execution_count": null,
   "id": "0b590c88-6493-4046-860e-42897c3c1446",
   "metadata": {},
   "outputs": [],
   "source": []
  }
 ],
 "metadata": {
  "kernelspec": {
   "display_name": "Python 3 (ipykernel)",
   "language": "python",
   "name": "python3"
  },
  "language_info": {
   "codemirror_mode": {
    "name": "ipython",
    "version": 3
   },
   "file_extension": ".py",
   "mimetype": "text/x-python",
   "name": "python",
   "nbconvert_exporter": "python",
   "pygments_lexer": "ipython3",
   "version": "3.10.5"
  }
 },
 "nbformat": 4,
 "nbformat_minor": 5
}
