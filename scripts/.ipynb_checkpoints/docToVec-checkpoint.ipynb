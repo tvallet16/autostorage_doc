{
 "cells": [
  {
   "cell_type": "code",
   "execution_count": 1,
   "id": "f3cb624d-0351-4aba-a195-412d5fda69cf",
   "metadata": {
    "tags": []
   },
   "outputs": [],
   "source": [
    "import gensim\n",
    "from gensim.models.doc2vec import Doc2Vec, TaggedDocument\n",
    "from textScrapper import TextScrapper\n",
    "from tqdm import tqdm\n",
    "import os\n",
    "import re\n",
    "import warnings\n",
    "from sklearn.model_selection import train_test_split\n",
    "warnings.filterwarnings('ignore')\n",
    "#from test_lib_scrapper_text import TextScrapper"
   ]
  },
  {
   "cell_type": "code",
   "execution_count": 2,
   "id": "b98ceb92-f6c5-43b5-858f-aba42c9a6730",
   "metadata": {},
   "outputs": [],
   "source": [
    "# exemple path file ../data/sncf_vinci_ifg_62/00086570-002601E-B007-20220323-R-VEN.pdf\n",
    "class fileTextManager():\n",
    "    \n",
    "\n",
    "    def getExtension(self, file):\n",
    "        filename, file_extension = os.path.splitext(file)\n",
    "        return file_extension\n",
    "    \n",
    "    \n",
    "    def getFileText(self, file):\n",
    "        textScrap = TextScrapper()\n",
    "        typeDocumentNumber=[]\n",
    "        match file[\"mimeType\"]:\n",
    "            case 'application/pdf':\n",
    "                \n",
    "                print(file['KidFile'])\n",
    "                fullText = textScrap.getTextPdf(f\"/Volumes/DD Thibault/sncf_DB/doc/engie/{file['KidFile']}\")\n",
    "                fullText = self.cleanup_remove_spaces(fullText)\n",
    "                return fullText\n",
    "            case 'application/vnd.ms-excel':\n",
    "                \n",
    "                fullText = textScrap.getTextPdf(file)\n",
    "                fullText = self.cleanup_remove_spaces(fullText)\n",
    "                return fullText\n",
    "\n",
    "            case 'application/vnd.openxmlformats-officedocument.wordprocessingml.document':\n",
    "                fullText = textScrap.getTextWord(f\"/Volumes/DD Thibault/sncf_DB/doc/engie/{file['KidFile']}\")\n",
    "                return fullText\n",
    "            \n",
    "            case 'application/vnd.openxmlformats-officedocument.spreadsheetml.sheet':\n",
    "                return 2\n",
    "            case 'image/jpeg':\n",
    "                return 2\n",
    "\n",
    "            case _:\n",
    "                return 'document type not supported'\n",
    "                #raise ValueError('document type not supported')   # 0 is the default case if x is not found\n",
    "    "
   ]
  },
  {
   "cell_type": "code",
   "execution_count": 3,
   "id": "3db3d397-227a-4ec9-962f-bba61693678e",
   "metadata": {},
   "outputs": [
    {
     "name": "stdout",
     "output_type": "stream",
     "text": [
      "____________________-\n",
      "MAINTENANCE REGLEMENTAIRE ANNUELLE.docx\n",
      "____________________-\n"
     ]
    },
    {
     "ename": "NameError",
     "evalue": "name 're' is not defined",
     "output_type": "error",
     "traceback": [
      "\u001b[0;31m---------------------------------------------------------------------------\u001b[0m",
      "\u001b[0;31mNameError\u001b[0m                                 Traceback (most recent call last)",
      "Input \u001b[0;32mIn [3]\u001b[0m, in \u001b[0;36m<cell line: 9>\u001b[0;34m()\u001b[0m\n\u001b[1;32m     12\u001b[0m \u001b[38;5;28mprint\u001b[39m(file[\u001b[38;5;124m\"\u001b[39m\u001b[38;5;124mfileName\u001b[39m\u001b[38;5;124m\"\u001b[39m])\n\u001b[1;32m     13\u001b[0m \u001b[38;5;28mprint\u001b[39m(\u001b[38;5;124m\"\u001b[39m\u001b[38;5;124m____________________-\u001b[39m\u001b[38;5;124m\"\u001b[39m)\n\u001b[0;32m---> 15\u001b[0m text \u001b[38;5;241m=\u001b[39m \u001b[43mfileManager\u001b[49m\u001b[38;5;241;43m.\u001b[39;49m\u001b[43mgetFileText\u001b[49m\u001b[43m(\u001b[49m\u001b[43mfile\u001b[49m\u001b[43m)\u001b[49m\n\u001b[1;32m     16\u001b[0m \u001b[38;5;28mprint\u001b[39m(\u001b[38;5;124mf\u001b[39m\u001b[38;5;124m\"\u001b[39m\u001b[38;5;124m end text \u001b[39m\u001b[38;5;132;01m{\u001b[39;00mtext\u001b[38;5;132;01m}\u001b[39;00m\u001b[38;5;124m\"\u001b[39m)\n\u001b[1;32m     17\u001b[0m \u001b[38;5;28;01mbreak\u001b[39;00m\n",
      "Input \u001b[0;32mIn [2]\u001b[0m, in \u001b[0;36mfileTextManager.getFileText\u001b[0;34m(self, file)\u001b[0m\n\u001b[1;32m     11\u001b[0m textScrap \u001b[38;5;241m=\u001b[39m TextScrapper()\n\u001b[1;32m     12\u001b[0m typeDocumentNumber\u001b[38;5;241m=\u001b[39m[]\n\u001b[1;32m     13\u001b[0m \u001b[38;5;28;01mmatch\u001b[39;00m file[\u001b[38;5;124m\"\u001b[39m\u001b[38;5;124mmimeType\u001b[39m\u001b[38;5;124m\"\u001b[39m]:\n\u001b[1;32m     14\u001b[0m     \u001b[38;5;28;01mcase\u001b[39;00m \u001b[38;5;124m'\u001b[39m\u001b[38;5;124mapplication/pdf\u001b[39m\u001b[38;5;124m'\u001b[39m:\n\u001b[1;32m     15\u001b[0m         \n\u001b[1;32m     16\u001b[0m         \u001b[38;5;28mprint\u001b[39m(file[\u001b[38;5;124m'\u001b[39m\u001b[38;5;124mKidFile\u001b[39m\u001b[38;5;124m'\u001b[39m])\n\u001b[1;32m     17\u001b[0m         fullText \u001b[38;5;241m=\u001b[39m textScrap\u001b[38;5;241m.\u001b[39mgetTextPdf(\u001b[38;5;124mf\u001b[39m\u001b[38;5;124m\"\u001b[39m\u001b[38;5;124m/Volumes/DD Thibault/sncf_DB/doc/engie/\u001b[39m\u001b[38;5;132;01m{\u001b[39;00mfile[\u001b[38;5;124m'\u001b[39m\u001b[38;5;124mKidFile\u001b[39m\u001b[38;5;124m'\u001b[39m]\u001b[38;5;132;01m}\u001b[39;00m\u001b[38;5;124m\"\u001b[39m)\n\u001b[1;32m     18\u001b[0m         fullText \u001b[38;5;241m=\u001b[39m \u001b[38;5;28mself\u001b[39m\u001b[38;5;241m.\u001b[39mcleanup_remove_spaces(fullText)\n\u001b[1;32m     19\u001b[0m         \u001b[38;5;28;01mreturn\u001b[39;00m fullText\n\u001b[1;32m     20\u001b[0m     \u001b[38;5;28;01mcase\u001b[39;00m \u001b[38;5;124m'\u001b[39m\u001b[38;5;124mapplication/vnd.ms-excel\u001b[39m\u001b[38;5;124m'\u001b[39m:\n\u001b[1;32m     21\u001b[0m         \n\u001b[1;32m     22\u001b[0m         fullText \u001b[38;5;241m=\u001b[39m textScrap\u001b[38;5;241m.\u001b[39mgetTextPdf(file)\n\u001b[1;32m     23\u001b[0m         fullText \u001b[38;5;241m=\u001b[39m \u001b[38;5;28mself\u001b[39m\u001b[38;5;241m.\u001b[39mcleanup_remove_spaces(fullText)\n\u001b[1;32m     24\u001b[0m         \u001b[38;5;28;01mreturn\u001b[39;00m fullText\n\u001b[1;32m     25\u001b[0m \n\u001b[1;32m     26\u001b[0m     \u001b[38;5;28;01mcase\u001b[39;00m \u001b[38;5;124m'\u001b[39m\u001b[38;5;124mapplication/vnd.openxmlformats-officedocument.wordprocessingml.document\u001b[39m\u001b[38;5;124m'\u001b[39m:\n\u001b[0;32m---> 27\u001b[0m         fullText \u001b[38;5;241m=\u001b[39m \u001b[43mtextScrap\u001b[49m\u001b[38;5;241;43m.\u001b[39;49m\u001b[43mgetTextWord\u001b[49m\u001b[43m(\u001b[49m\u001b[38;5;124;43mf\u001b[39;49m\u001b[38;5;124;43m\"\u001b[39;49m\u001b[38;5;124;43m/Volumes/DD Thibault/sncf_DB/doc/engie/\u001b[39;49m\u001b[38;5;132;43;01m{\u001b[39;49;00m\u001b[43mfile\u001b[49m\u001b[43m[\u001b[49m\u001b[38;5;124;43m'\u001b[39;49m\u001b[38;5;124;43mKidFile\u001b[39;49m\u001b[38;5;124;43m'\u001b[39;49m\u001b[43m]\u001b[49m\u001b[38;5;132;43;01m}\u001b[39;49;00m\u001b[38;5;124;43m\"\u001b[39;49m\u001b[43m)\u001b[49m\n\u001b[1;32m     28\u001b[0m         \u001b[38;5;28;01mreturn\u001b[39;00m fullText\n\u001b[1;32m     29\u001b[0m     \n\u001b[1;32m     30\u001b[0m     \u001b[38;5;28;01mcase\u001b[39;00m \u001b[38;5;124m'\u001b[39m\u001b[38;5;124mapplication/vnd.openxmlformats-officedocument.spreadsheetml.sheet\u001b[39m\u001b[38;5;124m'\u001b[39m:\n\u001b[1;32m     31\u001b[0m         \u001b[38;5;28;01mreturn\u001b[39;00m \u001b[38;5;241m2\u001b[39m\n\u001b[1;32m     32\u001b[0m     \u001b[38;5;28;01mcase\u001b[39;00m \u001b[38;5;124m'\u001b[39m\u001b[38;5;124mimage/jpeg\u001b[39m\u001b[38;5;124m'\u001b[39m:\n\u001b[1;32m     33\u001b[0m         \u001b[38;5;28;01mreturn\u001b[39;00m \u001b[38;5;241m2\u001b[39m\n\u001b[1;32m     34\u001b[0m \n\u001b[1;32m     35\u001b[0m     \u001b[38;5;28;01mcase\u001b[39;00m \u001b[38;5;28;01m_\u001b[39;00m:\n\u001b[1;32m     36\u001b[0m         \u001b[38;5;28;01mreturn\u001b[39;00m \u001b[38;5;124m'\u001b[39m\u001b[38;5;124mdocument type not supported\u001b[39m\u001b[38;5;124m'\u001b[39m\n",
      "File \u001b[0;32m~/Documents/knitiv/autoStorageDoc/scripts/textScrapper.py:61\u001b[0m, in \u001b[0;36mTextScrapper.getTextWord\u001b[0;34m(self, filename)\u001b[0m\n\u001b[1;32m     58\u001b[0m fullText \u001b[38;5;241m=\u001b[39m []\n\u001b[1;32m     60\u001b[0m \u001b[38;5;28;01mfor\u001b[39;00m para \u001b[38;5;129;01min\u001b[39;00m doc\u001b[38;5;241m.\u001b[39mparagraphs:\n\u001b[0;32m---> 61\u001b[0m     fullTextClean \u001b[38;5;241m=\u001b[39m \u001b[38;5;28;43mself\u001b[39;49m\u001b[38;5;241;43m.\u001b[39;49m\u001b[43mcleanup_remove_spaces\u001b[49m\u001b[43m(\u001b[49m\u001b[43mpara\u001b[49m\u001b[38;5;241;43m.\u001b[39;49m\u001b[43mtext\u001b[49m\u001b[43m)\u001b[49m\n\u001b[1;32m     62\u001b[0m     fullText\u001b[38;5;241m.\u001b[39mappend(fullTextClean)\n\u001b[1;32m     63\u001b[0m \u001b[38;5;28;01mreturn\u001b[39;00m \u001b[38;5;124m'\u001b[39m\u001b[38;5;130;01m\\n\u001b[39;00m\u001b[38;5;124m'\u001b[39m\u001b[38;5;241m.\u001b[39mjoin(fullText)\n",
      "File \u001b[0;32m~/Documents/knitiv/autoStorageDoc/scripts/textScrapper.py:23\u001b[0m, in \u001b[0;36mTextScrapper.cleanup_remove_spaces\u001b[0;34m(self, text)\u001b[0m\n\u001b[1;32m     22\u001b[0m \u001b[38;5;28;01mdef\u001b[39;00m \u001b[38;5;21mcleanup_remove_spaces\u001b[39m(\u001b[38;5;28mself\u001b[39m, text):\n\u001b[0;32m---> 23\u001b[0m     regex \u001b[38;5;241m=\u001b[39m \u001b[43mre\u001b[49m\u001b[38;5;241m.\u001b[39mcompile(\u001b[38;5;124mr\u001b[39m\u001b[38;5;124m\"\u001b[39m\u001b[38;5;124m\\\u001b[39m\u001b[38;5;124ms+\u001b[39m\u001b[38;5;124m\"\u001b[39m)\n\u001b[1;32m     24\u001b[0m     text \u001b[38;5;241m=\u001b[39m re\u001b[38;5;241m.\u001b[39msub(regex, \u001b[38;5;124m\"\u001b[39m\u001b[38;5;124m \u001b[39m\u001b[38;5;124m\"\u001b[39m, text)\n\u001b[1;32m     25\u001b[0m     regex \u001b[38;5;241m=\u001b[39m re\u001b[38;5;241m.\u001b[39mcompile(\u001b[38;5;124mr\u001b[39m\u001b[38;5;124m\"\u001b[39m\u001b[38;5;124m\\\u001b[39m\u001b[38;5;124mn\u001b[39m\u001b[38;5;124m\"\u001b[39m)\n",
      "\u001b[0;31mNameError\u001b[0m: name 're' is not defined"
     ]
    }
   ],
   "source": [
    "csvPath = \"/Volumes/DD Thibault/sncf_DB/doc/engie/engie.csv\"\n",
    "scrapper = TextScrapper()\n",
    "csv = scrapper.getTextCsv(csvPath)\n",
    "fileManager = fileTextManager()\n",
    "labelList = []\n",
    "data, test_data = train_test_split(csv,test_size=0.15)\n",
    "\n",
    "mimeTypeList =  []\n",
    "for file in data.iloc:\n",
    "    if file[\"mimeType\"] == 'application/vnd.openxmlformats-officedocument.wordprocessingml.document':\n",
    "        print(\"____________________-\")\n",
    "        print(file[\"fileName\"])\n",
    "        print(\"____________________-\")\n",
    "        \n",
    "        text = fileManager.getFileText(file)\n",
    "        print(f\" end text {text}\")\n",
    "        break\n",
    "\n",
    "\n",
    "print(mimeTypeList)\n",
    "    \n",
    "    \n",
    "    \n",
    "    "
   ]
  },
  {
   "cell_type": "code",
   "execution_count": null,
   "id": "3bb3472e-48ac-475d-8c26-d48bb4d7b4d0",
   "metadata": {},
   "outputs": [],
   "source": [
    "filename = \"../data/sncf_vinci_ifg_62/00086570-004005B-B001-2229700-20200616-R-PAU.pdf\"\n",
    "fileManager = fileTextManager()\n",
    "extentionList=[]\n",
    "textData = []\n",
    "\n",
    "for file in tqdm(os.listdir(\"../data/sncf_vinci_ifg_62\")):\n",
    "    \n",
    "    fullText = fileManager.getFileText(\"../data/sncf_vinci_ifg_62/\" + file)\n",
    "    textData.append(fullText)\n",
    "    extention = fileManager.getExtension(\"../data/sncf_vinci_ifg_62/\" + file)\n",
    "    if extention in extentionList:\n",
    "        pass\n",
    "    else:\n",
    "        extentionList.append(extention)\n",
    "print(len(textData))\n",
    "print(extentionList)\n",
    "# tuto for doc to vec  https://medium.com/@klintcho/doc2vec-tutorial-using-gensim-ab3ac03d3a1\n"
   ]
  },
  {
   "cell_type": "code",
   "execution_count": null,
   "id": "9388acb6-0d65-4a0d-93a1-f6d962831ab4",
   "metadata": {},
   "outputs": [],
   "source": []
  },
  {
   "cell_type": "code",
   "execution_count": 4,
   "id": "33aed12a-43d2-4a68-a2a6-6dd6e70c9431",
   "metadata": {},
   "outputs": [
    {
     "name": "stdout",
     "output_type": "stream",
     "text": [
      "[TaggedDocument(words=['human', 'interface', 'computer'], tags=[0]), TaggedDocument(words=['survey', 'user', 'computer', 'system', 'response', 'time'], tags=[1]), TaggedDocument(words=['eps', 'user', 'interface', 'system'], tags=[2]), TaggedDocument(words=['system', 'human', 'system', 'eps'], tags=[3]), TaggedDocument(words=['user', 'response', 'time'], tags=[4]), TaggedDocument(words=['trees'], tags=[5]), TaggedDocument(words=['graph', 'trees'], tags=[6]), TaggedDocument(words=['graph', 'minors', 'trees'], tags=[7]), TaggedDocument(words=['graph', 'minors', 'survey'], tags=[8])]\n"
     ]
    }
   ],
   "source": [
    "\n",
    "documents = [TaggedDocument(doc, [i]) for i, doc in enumerate(common_texts)]\n",
    "model = Doc2Vec(documents, vector_size=5, window=2, min_count=1, workers=4)\n",
    "print(documents)"
   ]
  },
  {
   "cell_type": "code",
   "execution_count": null,
   "id": "17106d43-f129-4454-b769-4aa8d7010339",
   "metadata": {},
   "outputs": [],
   "source": []
  },
  {
   "cell_type": "code",
   "execution_count": null,
   "id": "24df9d9b-eeb0-48d1-b0ee-635e4fa60b32",
   "metadata": {},
   "outputs": [],
   "source": []
  }
 ],
 "metadata": {
  "kernelspec": {
   "display_name": "Python 3 (ipykernel)",
   "language": "python",
   "name": "python3"
  },
  "language_info": {
   "codemirror_mode": {
    "name": "ipython",
    "version": 3
   },
   "file_extension": ".py",
   "mimetype": "text/x-python",
   "name": "python",
   "nbconvert_exporter": "python",
   "pygments_lexer": "ipython3",
   "version": "3.10.5"
  }
 },
 "nbformat": 4,
 "nbformat_minor": 5
}
