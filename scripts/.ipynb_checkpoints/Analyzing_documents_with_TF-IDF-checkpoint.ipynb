{
 "cells": [
  {
   "cell_type": "markdown",
   "metadata": {},
   "source": [
    "# Analyser des documents avec la méthode TF-IDF"
   ]
  },
  {
   "cell_type": "markdown",
   "metadata": {},
   "source": [
    "La **méthode TF-IDF** (*Term frequency, inverse document frequency*) a été introduite en 1972 par **Karen Spärck Jones** sous l'appellation de **\"term specificity\"**. Au lieu de représenter un mot dans un document par le nombre de ses occurrences (ou sa fréquence relative, c'est-à-dire le nombre d'occurrences du terme divisé par le nombre de mots au total dans le document), chaque occurrence est pondérée en **divisant le nombre d'occurrences par le nombre de documents dans le corpus contenant le mot en question**.\n",
    "\n",
    "Cette méthode de pondération permet d'éviter un problème courrant en analyse textuelle : le mot le plus fréquent dans un document est souvent le mot le plus fréquent dans le corpus. Un mot avec un score TF-IDF élevé est donc un mot distinctivement plus fréquent dans un document comparé aux autres documents du corpus."
   ]
  },
  {
   "cell_type": "markdown",
   "metadata": {},
   "source": [
    "## Implémentation de l'algorithme"
   ]
  },
  {
   "cell_type": "markdown",
   "metadata": {},
   "source": [
    "Le **DF score** indique le nombre de documents dans lesquels on peut trouver un terme spécifique.\n",
    "\n",
    "Habituellement, on utilise la notation suivante pour parler du **DF score d'un mot lambda** : $\\textit{DF} _{lambda}$."
   ]
  },
  {
   "cell_type": "markdown",
   "metadata": {},
   "source": [
    "Pour calculer le TF-IDF, la méthode la plus rapide est d'appliquer la formule suivante : $\\textit{TF-IDF} = \\frac{N}{\\textit{DF}_{lambda}}$ où $N$ représente le nombre total de documents dans le corpus. $\\textit{DF}_{t}$ représente le nombre de documents dans le corpus qui contient le terme $t$.  De nombreuses implémentations de cette méthode introduisent également une forme de **normalisation**. Celles-ci visent notamment à prévenir les biais liés à la taille des documents (grands documents et courts documents dans le corpus), mais également pour calculer l'IDF de chaque mot.\n",
    "\n",
    "Par exemple, l'implémentation dans `Scikit-learn` est la suivante :\n",
    "\n",
    "$\n",
    "\\textit{IDF}_{t} = ln(\\frac{(N + 1)}{\\textit{DF}_{t} + 1}) + 1\n",
    "$\n",
    "\n",
    "Une fois que l'IDF est calculé, on peut multiplier IDF et TF :\n",
    "\n",
    "$\n",
    "\\textit{TF-IDF}_{t} = \\textit{TF}_{t} \\times \\textit{IDF}_{t}\n",
    "$"
   ]
  },
  {
   "cell_type": "markdown",
   "metadata": {},
   "source": [
    "Le fait d'ajouter $1$ au premier calcul permet de s'assurer que l'on aura un compte qui ne pourra pas être inférieur à $1$ (si jamais le mot est absent dans le document en question) : cela signifie que l'on ne multipliera jamais au compte un nombre inférieur à $1$ (ce qui permet de conserver la distribution originelle des données)."
   ]
  },
  {
   "cell_type": "markdown",
   "metadata": {},
   "source": [
    "## Exemple avec Python"
   ]
  },
  {
   "cell_type": "markdown",
   "metadata": {},
   "source": [
    "Tout d'abord, on récupère la liste de tous les fichiers texte."
   ]
  },
  {
   "cell_type": "code",
   "execution_count": 1,
   "metadata": {},
   "outputs": [],
   "source": [
    "import os\n",
    "\n",
    "all_txt = []\n",
    "path = \"data/txt\"\n",
    "\n",
    "for txt in os.listdir(path):\n",
    "    all_txt.append(txt)"
   ]
  },
  {
   "cell_type": "markdown",
   "metadata": {},
   "source": [
    "Ensuite, on ouvre chaque fichier et on stocke leur contenu dans un élément d'une nouvelle liste `all_docs`."
   ]
  },
  {
   "cell_type": "code",
   "execution_count": 2,
   "metadata": {},
   "outputs": [],
   "source": [
    "all_docs = []\n",
    "\n",
    "for txt_file in all_txt:\n",
    "    with open(os.path.join(path, txt_file)) as file:\n",
    "        data = file.read()\n",
    "        \n",
    "    all_docs.append(data)"
   ]
  },
  {
   "cell_type": "markdown",
   "metadata": {},
   "source": [
    "A présent, on peut utiliser la fonction `TfidfVectorizer` de `Scikit-learn` pour transformer la liste du texte intégral de chaque document.\n",
    "\n",
    "La méthode `.fit_transform()` appliquée sur notre `vectorizer` permet de transformer la liste de texte en une matrice : elle représente le **score TF-IDF** pour chaque document.\n",
    "\n",
    "Comme `Scikit-learn` renvoie un objet `Sparse matrix`, on peut utiliser la méthode `.toarray()` de `Numpy` pour pouvoir accéder à toutes les valeurs qui contiennent $0$ (et que notre `Sparse matrix` ne représente pas)."
   ]
  },
  {
   "cell_type": "code",
   "execution_count": 3,
   "metadata": {},
   "outputs": [],
   "source": [
    "from sklearn.feature_extraction.text import TfidfVectorizer\n",
    "\n",
    "vectorizer = TfidfVectorizer(max_df=.65,\n",
    "                             min_df=1,\n",
    "                             stop_words=None,\n",
    "                             use_idf=True,\n",
    "                             norm=None)\n",
    "\n",
    "transformed_docs = vectorizer.fit_transform(all_docs)\n",
    "tfm_docs = transformed_docs.toarray()"
   ]
  },
  {
   "cell_type": "markdown",
   "metadata": {},
   "source": [
    "Maintenant, la variable `tfm_docs` contient un grand tableau qui représente :\n",
    "* En rangée, chaque document du corpus\n",
    "* En colonne, chaque terme présent dans le corpus\n",
    "\n",
    "Le problème est, qu'en l'état, notre variable ne trace pas le nom des fichiers, ni le nom des termes représentés. Il nous faut reconstruire un mapping entre ces informations."
   ]
  },
  {
   "cell_type": "markdown",
   "metadata": {},
   "source": [
    "On crée d'abord le dossier et une nouvelle liste qui contient les chemins vers les fichiers CSV."
   ]
  },
  {
   "cell_type": "code",
   "execution_count": 4,
   "metadata": {},
   "outputs": [],
   "source": [
    "import pandas as pd\n",
    "from pathlib import Path\n",
    "\n",
    "Path(\"./data/tf_idf_output\").mkdir(parents=True, exist_ok=True)\n",
    "path = \"data/tf_idf_output\"\n",
    "\n",
    "output_fn = [os.path.join(path, str(txt).replace(\".txt\", \".csv\")) for txt in all_txt]"
   ]
  },
  {
   "cell_type": "markdown",
   "metadata": {},
   "source": [
    "Ensuite, on récupère chaque **feature** de notre `vectorizer` ainsi que les scores calculés par `Scikit-learn`. On stocke ensuite cela dans des CSV indépendants. A chaque tour de boucle, on fait correspondre un terme du corpus avec un document entier."
   ]
  },
  {
   "cell_type": "code",
   "execution_count": 5,
   "metadata": {},
   "outputs": [],
   "source": [
    "for i, doc in enumerate(tfm_docs):\n",
    "    \n",
    "    tf_idf_tuples = list(zip(vectorizer.get_feature_names(), doc))\n",
    "    one_doc_as_df = pd.DataFrame.from_records(tf_idf_tuples, columns=[\"term\", \"score\"])\\\n",
    "                                .sort_values(by=\"score\", ascending=False)\\\n",
    "                                .reset_index(drop=True)\n",
    "            \n",
    "    one_doc_as_df.to_csv(output_fn[i])"
   ]
  },
  {
   "cell_type": "markdown",
   "metadata": {},
   "source": [
    "La fonction `TfidfVectorizer` dispose d'un paramètre `smooth_idf` qui permet de régler une partie de la procédure de normalisation. Si elle est `False`, alors le calcul appliqué est le suivant :\n",
    "\n",
    "$\n",
    "\\textit{IDF}_{t} = log(\\frac{N}{\\textit{DT}_{t}}) + 1\n",
    "$"
   ]
  },
  {
   "cell_type": "markdown",
   "metadata": {},
   "source": [
    "## Visualisation des résultats"
   ]
  },
  {
   "cell_type": "markdown",
   "metadata": {},
   "source": [
    "Voyons maintenant le retour que permet d'obtenir la fonction `TfidfVectorizer`. Sa méthode `.get_feature_names()` permet de récupérer une liste représentant chaque mot identifié dans le document."
   ]
  },
  {
   "cell_type": "code",
   "execution_count": 6,
   "metadata": {
    "scrolled": true
   },
   "outputs": [
    {
     "data": {
      "text/plain": [
       "['zrathustra',\n",
       " 'zuber',\n",
       " 'zuker',\n",
       " 'zukor',\n",
       " 'zukors',\n",
       " 'zula',\n",
       " 'zululand',\n",
       " 'zurich',\n",
       " 'zvai']"
      ]
     },
     "execution_count": 6,
     "metadata": {},
     "output_type": "execute_result"
    }
   ],
   "source": [
    "vectorizer.get_feature_names()[-10:-1]"
   ]
  },
  {
   "cell_type": "code",
   "execution_count": 19,
   "metadata": {},
   "outputs": [
    {
     "name": "stdout",
     "output_type": "stream",
     "text": [
      "366\n",
      "36269\n"
     ]
    }
   ],
   "source": [
    "print(len(tfm_docs))\n",
    "print(len(tfm_docs[0]))"
   ]
  },
  {
   "cell_type": "markdown",
   "metadata": {},
   "source": [
    "Le résultat de la vectorisation est obtenu après l'application de la méthode `.fit_transform()` : elle renvoie une `Sparse matrix` qui associe à chaque index de la liste (qui représente un document présent dans le corpus), le score IDF d'un terme particulier (on peut reconstruire le mapping entre l'index du terme dans la sortie du `vectorizer` et le nom du terme grâce à la méthode `.get_feature_names()`."
   ]
  },
  {
   "cell_type": "code",
   "execution_count": 7,
   "metadata": {},
   "outputs": [
    {
     "data": {
      "text/html": [
       "<div>\n",
       "<style scoped>\n",
       "    .dataframe tbody tr th:only-of-type {\n",
       "        vertical-align: middle;\n",
       "    }\n",
       "\n",
       "    .dataframe tbody tr th {\n",
       "        vertical-align: top;\n",
       "    }\n",
       "\n",
       "    .dataframe thead th {\n",
       "        text-align: right;\n",
       "    }\n",
       "</style>\n",
       "<table border=\"1\" class=\"dataframe\">\n",
       "  <thead>\n",
       "    <tr style=\"text-align: right;\">\n",
       "      <th></th>\n",
       "      <th>term</th>\n",
       "      <th>score</th>\n",
       "    </tr>\n",
       "  </thead>\n",
       "  <tbody>\n",
       "    <tr>\n",
       "      <th>0</th>\n",
       "      <td>hoover</td>\n",
       "      <td>387.081032</td>\n",
       "    </tr>\n",
       "    <tr>\n",
       "      <th>1</th>\n",
       "      <td>bureau</td>\n",
       "      <td>66.579125</td>\n",
       "    </tr>\n",
       "    <tr>\n",
       "      <th>2</th>\n",
       "      <td>director</td>\n",
       "      <td>56.627325</td>\n",
       "    </tr>\n",
       "    <tr>\n",
       "      <th>3</th>\n",
       "      <td>tolson</td>\n",
       "      <td>55.909932</td>\n",
       "    </tr>\n",
       "    <tr>\n",
       "      <th>4</th>\n",
       "      <td>attorney</td>\n",
       "      <td>38.185121</td>\n",
       "    </tr>\n",
       "    <tr>\n",
       "      <th>...</th>\n",
       "      <td>...</td>\n",
       "      <td>...</td>\n",
       "    </tr>\n",
       "    <tr>\n",
       "      <th>36264</th>\n",
       "      <td>falcons</td>\n",
       "      <td>0.000000</td>\n",
       "    </tr>\n",
       "    <tr>\n",
       "      <th>36265</th>\n",
       "      <td>falcon</td>\n",
       "      <td>0.000000</td>\n",
       "    </tr>\n",
       "    <tr>\n",
       "      <th>36266</th>\n",
       "      <td>falangist</td>\n",
       "      <td>0.000000</td>\n",
       "    </tr>\n",
       "    <tr>\n",
       "      <th>36267</th>\n",
       "      <td>falange</td>\n",
       "      <td>0.000000</td>\n",
       "    </tr>\n",
       "    <tr>\n",
       "      <th>36268</th>\n",
       "      <td>zwilich</td>\n",
       "      <td>0.000000</td>\n",
       "    </tr>\n",
       "  </tbody>\n",
       "</table>\n",
       "<p>36269 rows × 2 columns</p>\n",
       "</div>"
      ],
      "text/plain": [
       "            term       score\n",
       "0         hoover  387.081032\n",
       "1         bureau   66.579125\n",
       "2       director   56.627325\n",
       "3         tolson   55.909932\n",
       "4       attorney   38.185121\n",
       "...          ...         ...\n",
       "36264    falcons    0.000000\n",
       "36265     falcon    0.000000\n",
       "36266  falangist    0.000000\n",
       "36267    falange    0.000000\n",
       "36268    zwilich    0.000000\n",
       "\n",
       "[36269 rows x 2 columns]"
      ]
     },
     "execution_count": 7,
     "metadata": {},
     "output_type": "execute_result"
    }
   ],
   "source": [
    "tf_df = pd.read_csv(\"data/tf_idf_output/0101.csv\")\n",
    "tf_df.drop([\"Unnamed: 0\"], axis=1, inplace=True)\n",
    "tf_df"
   ]
  },
  {
   "cell_type": "code",
   "execution_count": 35,
   "metadata": {},
   "outputs": [],
   "source": [
    "tf_df_reduc = tf_df.iloc[1:20, :]"
   ]
  },
  {
   "cell_type": "code",
   "execution_count": 46,
   "metadata": {},
   "outputs": [
    {
     "data": {
      "text/plain": [
       "[Text(0, 0, 'bureau'),\n",
       " Text(0, 0, 'director'),\n",
       " Text(0, 0, 'tolson'),\n",
       " Text(0, 0, 'attorney'),\n",
       " Text(0, 0, 'kennedy'),\n",
       " Text(0, 0, 'agents'),\n",
       " Text(0, 0, 'general'),\n",
       " Text(0, 0, 'crime'),\n",
       " Text(0, 0, 'karpis'),\n",
       " Text(0, 0, 'president'),\n",
       " Text(0, 0, 'agent'),\n",
       " Text(0, 0, 'house'),\n",
       " Text(0, 0, 'police'),\n",
       " Text(0, 0, 'white'),\n",
       " Text(0, 0, 'around'),\n",
       " Text(0, 0, 'robert'),\n",
       " Text(0, 0, 'mckellar'),\n",
       " Text(0, 0, 'office'),\n",
       " Text(0, 0, 'kidnapping')]"
      ]
     },
     "execution_count": 46,
     "metadata": {},
     "output_type": "execute_result"
    },
    {
     "data": {
      "image/png": "[encoded data removed]",
      "text/plain": [
       "<Figure size 1080x1080 with 1 Axes>"
      ]
     },
     "metadata": {},
     "output_type": "display_data"
    }
   ],
   "source": [
    "import seaborn as sns\n",
    "import matplotlib.pyplot as plt\n",
    "\n",
    "plt.figure(figsize=(15, 15))\n",
    "sns.set(font_scale=1.5)\n",
    "barplot = sns.barplot(x=\"term\",\n",
    "                      y=\"score\",\n",
    "                      data=tf_df_reduc)\n",
    "\n",
    "barplot.set_xticklabels(barplot.get_xticklabels(), \n",
    "                        rotation=45,\n",
    "                        size = 15)"
   ]
  },
  {
   "cell_type": "markdown",
   "metadata": {},
   "source": [
    "## Comment utiliser la méthode TF-IDF en histoire numérique ?"
   ]
  },
  {
   "cell_type": "markdown",
   "metadata": {},
   "source": [
    "La méthode TF-IDF est appropriée pour des tâches spécifiques qui tombent généralement dans les trois groupes ci-dessous :\n",
    "* Comme un outil exploratoire ou un outil de visualisation :\n",
    "\n",
    "C'est le cas du projet \"Overview\", qui propose d'utiliser cette technique pour visualiser les termes les plus importants https://www.overviewdocs.com/. C'est aussi cette technique qu'ont utilisé Jonathan Stray et Julian Burgess pour explorer les War Logs fuitées par Wikileaks (http://jonathanstray.com/a-full-text-visualization-of-the-iraq-war-logs).\n",
    "\n",
    "* Comme un outil d'analyse de similarités textuelles et d'extraction de features :\n",
    "\n",
    "La méthode TF-IDF permet de calculer des similarités, ce qui permet souvent d'extraire des thématiques particulières traitées dans un document. Cela peut permettre également de calculer les distances relatives entre les documents d'un même corpus.\n",
    "\n",
    "* Comme un outil de pre-processing :\n",
    "\n",
    "Bien souvent, les méthodes de Machine learning utilisent la méthode TF-IDF comme étape de preprocessing car elle tend à extraire des features au pouvoir prédictif plus important que le simple décompte des mots présents dans chaque document d'un corpus."
   ]
  },
  {
   "cell_type": "markdown",
   "metadata": {},
   "source": [
    "## Des méthodes \"concurrentes\" ?"
   ]
  },
  {
   "cell_type": "markdown",
   "metadata": {},
   "source": [
    "* Keyness :\n",
    "\n",
    "Il s'agit de mesures statistiques destinées à mesurer l'importance numérique d'un terme dans un corpus. Le keyness test permet de mesurer à quel point un terme est typique ou non d'un document au sein d'un corpus à l'aide d'un calcul de Chi2 : de cela, on peut déduire une p-value qui permet d'indiquer la probabilité de rencontrer la différence observée entre la présence d'un terme dans différents documents d'un même corpus si on procède à un échantillonage aléatoire de documents au sein du corpus.\n",
    "\n",
    "* Topic modeling :\n",
    "\n",
    "Contrairement à la méthode TF-IDF, le topic modeling s'appuie sur des processus de clustering non-supervisés. Il peut donner un bon panorama des thématiques présentes dans un corpus, mais n'est pas aussi transparent qu'une méthode plus simple et reproductible comme celle du TF-IDF.\n",
    "\n",
    "* Résumé automatique :\n",
    "\n",
    "Cette méthode s'appuie également sur de l'extraction de mots-clés. On se référera ici essentiellement à la méthode de TextRank proposée par Rada Mihalcea et Paul Tarau en 2004 (https://www.aclweb.org/anthology/W04-3252/)."
   ]
  }
 ],
 "metadata": {
  "kernelspec": {
   "display_name": "Python 3",
   "language": "python",
   "name": "python3"
  },
  "language_info": {
   "codemirror_mode": {
    "name": "ipython",
    "version": 3
   },
   "file_extension": ".py",
   "mimetype": "text/x-python",
   "name": "python",
   "nbconvert_exporter": "python",
   "pygments_lexer": "ipython3",
   "version": "3.7.6"
  }
 },
 "nbformat": 4,
 "nbformat_minor": 4
}
