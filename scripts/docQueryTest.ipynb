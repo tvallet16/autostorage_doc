{
 "cells": [
  {
   "cell_type": "code",
   "execution_count": 6,
   "id": "214d1438-ca5c-4300-8f7d-f7f12dede4f2",
   "metadata": {},
   "outputs": [
    {
     "name": "stdout",
     "output_type": "stream",
     "text": [
      "huggingface/tokenizers: The current process just got forked, after parallelism has already been used. Disabling parallelism to avoid deadlocks...\n",
      "To disable this warning, you can either:\n",
      "\t- Avoid using `tokenizers` before the fork if possible\n",
      "\t- Explicitly set the environment variable TOKENIZERS_PARALLELISM=(true | false)\n",
      "huggingface/tokenizers: The current process just got forked, after parallelism has already been used. Disabling parallelism to avoid deadlocks...\n",
      "To disable this warning, you can either:\n",
      "\t- Avoid using `tokenizers` before the fork if possible\n",
      "\t- Explicitly set the environment variable TOKENIZERS_PARALLELISM=(true | false)\n",
      "huggingface/tokenizers: The current process just got forked, after parallelism has already been used. Disabling parallelism to avoid deadlocks...\n",
      "To disable this warning, you can either:\n",
      "\t- Avoid using `tokenizers` before the fork if possible\n",
      "\t- Explicitly set the environment variable TOKENIZERS_PARALLELISM=(true | false)\n",
      "What is the date? {'score': 0.9999542236328125, 'answer': '23 mars 2021', 'word_ids': [7, 8, 9], 'page': 0}\n",
      "What is the title? {'score': 2.762398071354255e-05, 'answer': 'NomKnitiv SAS', 'word_ids': [15, 16], 'page': 0}\n"
     ]
    }
   ],
   "source": [
    "documentPath = \"/Users/thibault/Documents/knitiv/autoStorageDoc/scripts/asset/defaultOnePage.pdf\"\n",
    "from docquery import document, pipeline\n",
    "p = pipeline('document-question-answering')\n",
    "doc = document.load_document(documentPath)\n",
    "for q in [\"What is the date?\", \"What is the title?\"]:\n",
    "    print(q, p(question=q, **doc.context))"
   ]
  },
  {
   "cell_type": "code",
   "execution_count": null,
   "id": "ca5d283e-f70e-4e32-94a3-3d6d7d4b0f55",
   "metadata": {},
   "outputs": [],
   "source": []
  }
 ],
 "metadata": {
  "kernelspec": {
   "display_name": "Python 3 (ipykernel)",
   "language": "python",
   "name": "python3"
  },
  "language_info": {
   "codemirror_mode": {
    "name": "ipython",
    "version": 3
   },
   "file_extension": ".py",
   "mimetype": "text/x-python",
   "name": "python",
   "nbconvert_exporter": "python",
   "pygments_lexer": "ipython3",
   "version": "3.10.5"
  }
 },
 "nbformat": 4,
 "nbformat_minor": 5
}
