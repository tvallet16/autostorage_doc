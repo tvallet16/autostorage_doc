{
 "cells": [
  {
   "cell_type": "code",
   "execution_count": null,
   "id": "d5341d56-1814-4fda-99eb-7dea5d8def58",
   "metadata": {},
   "outputs": [],
   "source": []
  },
  {
   "cell_type": "code",
   "execution_count": 3,
   "id": "3a59272f-d797-491a-b803-a446bf8d4f48",
   "metadata": {},
   "outputs": [],
   "source": [
    "import PyPDF2\n",
    "from pdfrw import PdfReader\n",
    "import docx\n",
    "import pandas as pd\n",
    "    \n",
    "class TextScrapper():\n",
    "    def __init__(self):\n",
    "        pass\n",
    "    \n",
    "    def getTextPdf(self, filename):\n",
    "        fulltext = []\n",
    "        \n",
    "        # creating a pdf file object \n",
    "        pdfFileObj = open(filename, 'rb') \n",
    "        \n",
    "        # creating a pdf reader object \n",
    "        pdfReader = PyPDF2.PdfFileReader(pdfFileObj) \n",
    "\n",
    "        # printing number of pages in pdf file \n",
    "        print(pdfReader.numPages) \n",
    "        for i in range(pdfReader.numPages):\n",
    "            # creating a page object \n",
    "            pageObj = pdfReader.getPage(i)\n",
    "\n",
    "            # extracting text from page \n",
    "            pageText = pageObj.extractText()\n",
    "            print(pageText)\n",
    "            fulltext.append(pageText)\n",
    "\n",
    "        # closing the pdf file object \n",
    "        pdfFileObj.close() \n",
    "        return fullText\n",
    "    \n",
    "    \n",
    "    def getTextWord(filename):\n",
    "        doc = docx.Document(filename)\n",
    "        fullText = []\n",
    "\n",
    "        for para in doc.paragraphs:\n",
    "            fullText.append(para.text)\n",
    "        return '\\n'.join(fullText)\n",
    "\n",
    "    def getTextExcel(filename):\n",
    "        df = pd.read_excel(filename)\n",
    "        return df\n",
    "\n",
    " "
   ]
  },
  {
   "cell_type": "code",
   "execution_count": 4,
   "id": "5107d6a6-5178-44d6-b4b5-c91dfd4b0d12",
   "metadata": {},
   "outputs": [
    {
     "name": "stdout",
     "output_type": "stream",
     "text": [
      "2\n",
      " \n",
      "1 \n",
      "RAPPORT D’INTERVENTION   \n",
      "Contrôle des débits  d’air  N° 570  \n",
      "Date du rapport : 23/0 3/2022  \n",
      "N de fiche  : 127260464  \n",
      "Client  : SNCF  \n",
      " \n",
      "Site  : 002601E_B007_batiment voyageurs  \n",
      "Adresse  : Place de la gare 28120 BAILLEAU -LE-PIN  \n",
      "Responsable Affaire  : Mustapha KHALLOUK  Responsable contrat  : Jeremy PUARD  \n",
      " \n",
      "Vérificateur : StephaneGRONDIN  \n",
      " \n",
      "Equipement s concerné  \n",
      "Marque  Reference  Caractéristique technique  \n",
      "- \n",
      "   : \n",
      " \n",
      "Matériel de mesure ou d’essai utilisé  \n",
      "Libellé du matériel  : testo 417  \n",
      "Date du derni er control  : 2021  \n",
      "4 \n",
      "Mesures réalisées  \n",
      "Type de Local  Libellé du Local  Débit d’air réglementaire  \n",
      "Conformité  \n",
      "Réglementaire  Mesuré  \n",
      "Cabinet d'aisance \n",
      "(isolé)  wc  30 32 Oui  \n",
      "Locaux de \n",
      "restauration, \n",
      "locaux de vente, \n",
      "locaux de réunion  cuisine  \n",
      "30 46 Oui  \n",
      " \n",
      " \n",
      "  \n"
     ]
    }
   ],
   "source": [
    "\n",
    "\n"
   ]
  },
  {
   "cell_type": "code",
   "execution_count": null,
   "id": "d49763af-34b2-4da9-a5b0-76c3b78a32c1",
   "metadata": {},
   "outputs": [],
   "source": []
  }
 ],
 "metadata": {
  "kernelspec": {
   "display_name": "Python 3 (ipykernel)",
   "language": "python",
   "name": "python3"
  },
  "language_info": {
   "codemirror_mode": {
    "name": "ipython",
    "version": 3
   },
   "file_extension": ".py",
   "mimetype": "text/x-python",
   "name": "python",
   "nbconvert_exporter": "python",
   "pygments_lexer": "ipython3",
   "version": "3.10.5"
  }
 },
 "nbformat": 4,
 "nbformat_minor": 5
}
